import sqlite3

# Connect to SQLite database (or create it if it doesn't exist)
conn = sqlite3.connect('orders.db')
cursor = conn.cursor()

# Create a table to hold the order data
cursor.execute('''
CREATE TABLE IF NOT EXISTS orders (
    OrderIndex INTEGER PRIMARY KEY,
    OrderID TEXT,
    CustomerID TEXT,
    Gender TEXT,
    Age INTEGER,
    Date TEXT,
    State TEXT,
    Channel TEXT,
    SKU_Name TEXT,
    SKU_Price_Per_Unit REAL,
    Category TEXT,
    Quantity_Bought INTEGER,
    Final_Amount REAL,
    Ship_City TEXT
)
''')
conn.commit()



# Connect to SQLite database (or create it if it doesn't exist)
conn = sqlite3.connect('orders.db')
cursor = conn.cursor()

# Drop the orders table if it exists
cursor.execute("DROP TABLE IF EXISTS orders")
conn.commit()

# Create a table to hold the order data
cursor.execute('''
CREATE TABLE IF NOT EXISTS orders (
    OrderIndex INTEGER PRIMARY KEY,
    OrderID TEXT,
    CustomerID TEXT,
    Gender TEXT,
    Age INTEGER,
    Date TEXT,
    State TEXT,
    Channel TEXT,
    SKU_Name TEXT,
    SKU_Price_Per_Unit REAL,
    Category TEXT,
    Quantity_Bought INTEGER,
    Final_Amount REAL,
    Ship_City TEXT
)
''')
conn.commit()

import random
from faker import Faker

# Initialize Faker
fake = Faker('en_IN')

# Define constants
genders = ['Male', 'Female']
states = ['CANCELLED', 'RETURNED', 'DELIVERED']
channels = ['AMAZON', 'MYNTRA', 'FLIPKART', 'MEESHO']
sku_names = ['Product A', 'Product B', 'Product C', 'Product D', 'Product E']
categories = ['X', 'XL', 'XX', 'XXXL', 'M']

def insert_random_data(num_rows):
    for _ in range(num_rows):
        order_id = str(fake.uuid4())
        customer_id = str(fake.uuid4())
        gender = random.choice(genders)
        age = random.randint(18, 70)
        date = fake.date_between(start_date='-1y', end_date='today').strftime("%d/%m/%Y")
        state = random.choice(states)
        channel = random.choice(channels)
        sku_name = random.choice(sku_names)
        sku_price_per_unit = round(random.uniform(100, 1000), 2)
        category = random.choice(categories)
        quantity_bought = random.randint(1, 10)
        final_amount = round(sku_price_per_unit * quantity_bought, 2)
        ship_city = fake.city()
        
        cursor.execute('''
        INSERT INTO orders (OrderID, CustomerID, Gender, Age, Date, State, Channel,
                            SKU_Name, SKU_Price_Per_Unit, Category, Quantity_Bought,
                            Final_Amount, Ship_City)
        VALUES (?, ?, ?, ?, ?, ?, ?, ?, ?, ?, ?, ?, ?)
        ''', (order_id, customer_id, gender, age, date, state, channel,
              sku_name, sku_price_per_unit, category, quantity_bought,
              final_amount, ship_city))

    conn.commit()

# Example usage
num_rows = int(input("Enter the number of rows required: "))
if num_rows > 0:
    insert_random_data(num_rows)
else:
    print("Number of rows must be greater than 0.")
